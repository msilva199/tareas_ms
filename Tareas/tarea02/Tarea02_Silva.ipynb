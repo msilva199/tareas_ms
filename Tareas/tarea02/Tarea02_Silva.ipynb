{
  "nbformat": 4,
  "nbformat_minor": 0,
  "metadata": {
    "colab": {
      "provenance": []
    },
    "kernelspec": {
      "name": "python3",
      "display_name": "Python 3"
    },
    "language_info": {
      "name": "python"
    }
  },
  "cells": [
    {
      "cell_type": "code",
      "execution_count": null,
      "metadata": {
        "id": "QdtrM15mHwhY"
      },
      "outputs": [],
      "source": []
    },
    {
      "cell_type": "markdown",
      "source": [
        "#Tarea 02\n",
        "\n",
        "###Problema 1"
      ],
      "metadata": {
        "id": "xeTY9MlYIJ_e"
      }
    },
    {
      "cell_type": "code",
      "source": [
        "variable = -101\n",
        "\n",
        "while(variable < 200):\n",
        "  variable = variable + 1\n",
        "  print(variable)\n"
      ],
      "metadata": {
        "colab": {
          "base_uri": "https://localhost:8080/"
        },
        "id": "jIv5oHcVIYnX",
        "outputId": "d393123e-5d6b-475a-fc53-d4e36985ae29"
      },
      "execution_count": null,
      "outputs": [
        {
          "output_type": "stream",
          "name": "stdout",
          "text": [
            "-100\n",
            "-99\n",
            "-98\n",
            "-97\n",
            "-96\n",
            "-95\n",
            "-94\n",
            "-93\n",
            "-92\n",
            "-91\n",
            "-90\n",
            "-89\n",
            "-88\n",
            "-87\n",
            "-86\n",
            "-85\n",
            "-84\n",
            "-83\n",
            "-82\n",
            "-81\n",
            "-80\n",
            "-79\n",
            "-78\n",
            "-77\n",
            "-76\n",
            "-75\n",
            "-74\n",
            "-73\n",
            "-72\n",
            "-71\n",
            "-70\n",
            "-69\n",
            "-68\n",
            "-67\n",
            "-66\n",
            "-65\n",
            "-64\n",
            "-63\n",
            "-62\n",
            "-61\n",
            "-60\n",
            "-59\n",
            "-58\n",
            "-57\n",
            "-56\n",
            "-55\n",
            "-54\n",
            "-53\n",
            "-52\n",
            "-51\n",
            "-50\n",
            "-49\n",
            "-48\n",
            "-47\n",
            "-46\n",
            "-45\n",
            "-44\n",
            "-43\n",
            "-42\n",
            "-41\n",
            "-40\n",
            "-39\n",
            "-38\n",
            "-37\n",
            "-36\n",
            "-35\n",
            "-34\n",
            "-33\n",
            "-32\n",
            "-31\n",
            "-30\n",
            "-29\n",
            "-28\n",
            "-27\n",
            "-26\n",
            "-25\n",
            "-24\n",
            "-23\n",
            "-22\n",
            "-21\n",
            "-20\n",
            "-19\n",
            "-18\n",
            "-17\n",
            "-16\n",
            "-15\n",
            "-14\n",
            "-13\n",
            "-12\n",
            "-11\n",
            "-10\n",
            "-9\n",
            "-8\n",
            "-7\n",
            "-6\n",
            "-5\n",
            "-4\n",
            "-3\n",
            "-2\n",
            "-1\n",
            "0\n",
            "1\n",
            "2\n",
            "3\n",
            "4\n",
            "5\n",
            "6\n",
            "7\n",
            "8\n",
            "9\n",
            "10\n",
            "11\n",
            "12\n",
            "13\n",
            "14\n",
            "15\n",
            "16\n",
            "17\n",
            "18\n",
            "19\n",
            "20\n",
            "21\n",
            "22\n",
            "23\n",
            "24\n",
            "25\n",
            "26\n",
            "27\n",
            "28\n",
            "29\n",
            "30\n",
            "31\n",
            "32\n",
            "33\n",
            "34\n",
            "35\n",
            "36\n",
            "37\n",
            "38\n",
            "39\n",
            "40\n",
            "41\n",
            "42\n",
            "43\n",
            "44\n",
            "45\n",
            "46\n",
            "47\n",
            "48\n",
            "49\n",
            "50\n",
            "51\n",
            "52\n",
            "53\n",
            "54\n",
            "55\n",
            "56\n",
            "57\n",
            "58\n",
            "59\n",
            "60\n",
            "61\n",
            "62\n",
            "63\n",
            "64\n",
            "65\n",
            "66\n",
            "67\n",
            "68\n",
            "69\n",
            "70\n",
            "71\n",
            "72\n",
            "73\n",
            "74\n",
            "75\n",
            "76\n",
            "77\n",
            "78\n",
            "79\n",
            "80\n",
            "81\n",
            "82\n",
            "83\n",
            "84\n",
            "85\n",
            "86\n",
            "87\n",
            "88\n",
            "89\n",
            "90\n",
            "91\n",
            "92\n",
            "93\n",
            "94\n",
            "95\n",
            "96\n",
            "97\n",
            "98\n",
            "99\n",
            "100\n",
            "101\n",
            "102\n",
            "103\n",
            "104\n",
            "105\n",
            "106\n",
            "107\n",
            "108\n",
            "109\n",
            "110\n",
            "111\n",
            "112\n",
            "113\n",
            "114\n",
            "115\n",
            "116\n",
            "117\n",
            "118\n",
            "119\n",
            "120\n",
            "121\n",
            "122\n",
            "123\n",
            "124\n",
            "125\n",
            "126\n",
            "127\n",
            "128\n",
            "129\n",
            "130\n",
            "131\n",
            "132\n",
            "133\n",
            "134\n",
            "135\n",
            "136\n",
            "137\n",
            "138\n",
            "139\n",
            "140\n",
            "141\n",
            "142\n",
            "143\n",
            "144\n",
            "145\n",
            "146\n",
            "147\n",
            "148\n",
            "149\n",
            "150\n",
            "151\n",
            "152\n",
            "153\n",
            "154\n",
            "155\n",
            "156\n",
            "157\n",
            "158\n",
            "159\n",
            "160\n",
            "161\n",
            "162\n",
            "163\n",
            "164\n",
            "165\n",
            "166\n",
            "167\n",
            "168\n",
            "169\n",
            "170\n",
            "171\n",
            "172\n",
            "173\n",
            "174\n",
            "175\n",
            "176\n",
            "177\n",
            "178\n",
            "179\n",
            "180\n",
            "181\n",
            "182\n",
            "183\n",
            "184\n",
            "185\n",
            "186\n",
            "187\n",
            "188\n",
            "189\n",
            "190\n",
            "191\n",
            "192\n",
            "193\n",
            "194\n",
            "195\n",
            "196\n",
            "197\n",
            "198\n",
            "199\n",
            "200\n"
          ]
        }
      ]
    },
    {
      "cell_type": "markdown",
      "source": [
        "Para el primer problema se determinó que la variable fuera el número anterior al primero que se pidió en el ejercicio, en este caso el -100. Además, a la variable se le agregó un +1 para que no incluya este número anterior y pueda incluir todos los siguientes. Para que no diera números infinitos, se utilizó while, para que solo lleguen los números hasta el 200.\n"
      ],
      "metadata": {
        "id": "i00ZzVJ9JbWV"
      }
    },
    {
      "cell_type": "markdown",
      "source": [
        "###Problema 2\n"
      ],
      "metadata": {
        "id": "UMgNRitoWVIL"
      }
    },
    {
      "cell_type": "code",
      "source": [
        "variable = -101\n",
        "while(variable < 200):\n",
        "  variable = variable + 1\n",
        "\n",
        "  if(variable % 6 == 0):\n",
        "    print(variable)"
      ],
      "metadata": {
        "colab": {
          "base_uri": "https://localhost:8080/"
        },
        "id": "2AnNulZHWdku",
        "outputId": "45892d0f-6065-41e7-b527-3dbf8716bcc8"
      },
      "execution_count": 16,
      "outputs": [
        {
          "output_type": "stream",
          "name": "stdout",
          "text": [
            "-96\n",
            "-90\n",
            "-84\n",
            "-78\n",
            "-72\n",
            "-66\n",
            "-60\n",
            "-54\n",
            "-48\n",
            "-42\n",
            "-36\n",
            "-30\n",
            "-24\n",
            "-18\n",
            "-12\n",
            "-6\n",
            "0\n",
            "6\n",
            "12\n",
            "18\n",
            "24\n",
            "30\n",
            "36\n",
            "42\n",
            "48\n",
            "54\n",
            "60\n",
            "66\n",
            "72\n",
            "78\n",
            "84\n",
            "90\n",
            "96\n",
            "102\n",
            "108\n",
            "114\n",
            "120\n",
            "126\n",
            "132\n",
            "138\n",
            "144\n",
            "150\n",
            "156\n",
            "162\n",
            "168\n",
            "174\n",
            "180\n",
            "186\n",
            "192\n",
            "198\n"
          ]
        }
      ]
    },
    {
      "cell_type": "markdown",
      "source": [
        "Al ser similar al ejercicio anterior, se empezó de la misma manera. Pero a diferencia del anterior y por lo que se pedía en el ejercicio, se utilizó if para que solo se impriman los números solicitados, en este caso aquellos divisibles por 6 y con resto 0. Para esto además se utilizo el símbolo %, el cual permite saber inmediatamente el resto, al pedirle específicamente el resto mencionado."
      ],
      "metadata": {
        "id": "pqodjWyvXQ4r"
      }
    },
    {
      "cell_type": "markdown",
      "source": [
        "###Problema 3"
      ],
      "metadata": {
        "id": "b5ln3VYgJv83"
      }
    },
    {
      "cell_type": "markdown",
      "source": [],
      "metadata": {
        "id": "1fN5EYxtMSMJ"
      }
    },
    {
      "cell_type": "code",
      "source": [
        "número1 = float(input(\"ingrese el número 1\"))\n",
        "número2 = float(input(\"ingrese el número 2\"))\n",
        "\n",
        "suma = número1 + número2\n",
        "\n",
        "print(suma)\n",
        "\n",
        "if(suma < 200):\n",
        "  print(\"menor a 200\")\n",
        "elif(250 > suma > 200):\n",
        "  print(\"mayor a 200\")\n",
        "if(suma > 250):\n",
        "  print(\"mayor a 250\")"
      ],
      "metadata": {
        "id": "Vavy-KU_Jz11",
        "colab": {
          "base_uri": "https://localhost:8080/"
        },
        "outputId": "cd3e6e2f-6a0e-47e7-d998-245dcb996c56"
      },
      "execution_count": 20,
      "outputs": [
        {
          "output_type": "stream",
          "name": "stdout",
          "text": [
            "ingrese el número 1 150\n",
            "ingrese el número 2 75\n",
            "225.0\n",
            "mayor a 200\n"
          ]
        }
      ]
    },
    {
      "cell_type": "markdown",
      "source": [
        "Para el problema 3 se utilizó en primer lugar \"float\", para que la respuesta sea un número. Luego se especificó que es una suma y a través del \"if\", se imprimen respuestas según cada resultado. En el caso del \"elif\", se utilizaron dos variables para hacer la diferencia con el caso de \"mayor a 250\"."
      ],
      "metadata": {
        "id": "gGLOSUA9MH5L"
      }
    },
    {
      "cell_type": "markdown",
      "source": [
        "###Problema 4"
      ],
      "metadata": {
        "id": "qmuc1hSCMNr-"
      }
    },
    {
      "cell_type": "code",
      "source": [
        "edad = float(input(\"Ingresa tu edad\"))\n",
        "Gustos_Musicales = input(\"¿Te gusta la música urbana? Responde con Si o No\")\n",
        "\n",
        "if(edad>=18 and Gustos_Musicales == \"Si\"):\n",
        "  print(\"Mayor de edad y le gusta la música urbana\")\n",
        "elif(edad>=18 and Gustos_Musicales == \"No\"):\n",
        "  print(\"Mayor de edad y no le gusta la música urbana\")\n",
        "if(edad<18 and Gustos_Musicales == \"Si\"):\n",
        "  print(\"Menor de edad y le gusta la música urbana\")\n",
        "elif(edad<18 and Gustos_Musicales == \"No\"):\n",
        "  print(\"Menor de edad y no le gusta la música urbana\")"
      ],
      "metadata": {
        "id": "Z2mgsQ4zMrv3"
      },
      "execution_count": null,
      "outputs": []
    },
    {
      "cell_type": "markdown",
      "source": [
        "Al ser un problema similar al anterior, se utilizó la misma base. La gran diferencia es la no utilización de \"float\" para la respuesta de la música urbana, ya que no es necesario que sean números."
      ],
      "metadata": {
        "id": "IzHHS9o5aTww"
      }
    }
  ]
}